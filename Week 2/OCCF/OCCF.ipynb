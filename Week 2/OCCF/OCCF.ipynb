{
  "nbformat": 4,
  "nbformat_minor": 0,
  "metadata": {
    "colab": {
      "provenance": []
    },
    "kernelspec": {
      "name": "python3",
      "display_name": "Python 3"
    },
    "language_info": {
      "name": "python"
    }
  },
  "cells": [
    {
      "cell_type": "code",
      "source": [],
      "metadata": {
        "id": "rKvuMmk8XK8c"
      },
      "execution_count": null,
      "outputs": []
    },
    {
      "cell_type": "markdown",
      "source": [
        "추천 시스템은 크게 Content-Based Approach와 Collaborative Filtering 두가지로 분류할 수 있다.\n",
        "\n",
        "우선 Content-based approach는 content가 어떤 분류에 속하는지, 즉 content자체의 내용과 성격에 집중하여 추천하는 시스템이다. 영화라면 장르, 배우, 국가 등의 content profile 요소가 있을 것이다. 그러나 그 domain에 관한 이해가 요구되고, 참신한 분야의 추천까지 확장될 수 없다는 한계가 있다. \n",
        "\n",
        "반면에 Collaborative filtering은 위와 같은 content profile을 구성하는 것이 아니라 나와 비슷한 취향의 사람을 찾아 그 사람이 선호하는 contents를 추천해주는 시스템이다. 그러나, 초기 데이터가 부족한 경우에는 cold-start의 문제가 있다.\n",
        "\n",
        "OCCF는 Implicit feedback dataset이라는 점에서 차별점을 가진다. "
      ],
      "metadata": {
        "id": "pNygU9_PDisd"
      }
    },
    {
      "cell_type": "markdown",
      "source": [
        "![1.webp](data:image/webp;base64,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)"
      ],
      "metadata": {
        "id": "NkR5ZAQdCfl_"
      }
    },
    {
      "cell_type": "markdown",
      "source": [
        "위의 식은 기존의 Latent Factor Model에서 사용한 Cost 함수이다."
      ],
      "metadata": {
        "id": "1NUXBTz5XKbZ"
      }
    },
    {
      "cell_type": "markdown",
      "source": [
        "![2.webp](data:image/webp;base64,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)"
      ],
      "metadata": {
        "id": "0CXdNMPXXJnC"
      }
    },
    {
      "cell_type": "markdown",
      "source": [
        "OCCF에서는 confidence라는 개념과 implicit feedback을 활용해서 rui를 대체했다. Confidence의 경우 rating을 많이 한 user일수록 가중치를 둬서 설정했고 Pui의 경우 implicit한 피드백이 하나라도 있을 경우 1, 하나도 없을 경우 0으로 설정하였다. "
      ],
      "metadata": {
        "id": "aZ7gJjVqC5G9"
      }
    },
    {
      "cell_type": "markdown",
      "source": [
        "![3.webp](data:image/webp;base64,UklGRkQCAABXRUJQVlA4IDgCAACwDQCdASrAADYAPrVUpk0nJKOiKhM4+OAWiWkAnANz9z/rGf8NTW/f5/ivAGUDwA0gUzLxufTPsEk1ymeLZTPE7CE21yXmgaoYvX19rtkOzHlWCJPGUHdAeaz/fYCPJF+WAVTj0KhHKBLRwbyRCCDKVM8WymRAAP73jAAqeYFr3eDOj/XBrJzVOeDv5c2vcqA4vBa3KA1AV244uQChpd+WFx1i8Jq52AcTnWhlFyWXJ5D3ds5FF8F/+Lymgm/cXBWsAKUt981hea3mGg8dnaKEr+Sh1dvN5ImB9KdRk/8Go7TbILLtEq9OOcoLcTMHYCzAs5DTzMOOxjQYt0J0TYzNJ2+s5robmDUM54MUD4/cMqve5zxkuICz3GZ1aGyp/P+uxHsl+njMa53r53pctwA1KWAYZCeCHEt6lb8NCqOoKOZzk4jvOaOYG6iOQncln5/N1VE+ssE91gkQzD58NlNGpINIwkkiqIeysHkyGdJy/HigcOZZ+wbN3BqdwoLzBO/G2znPj7NhbJjVm6VxTohxwbiW+av3mVPMPtnf80Ub0/0Vo05w38mjE9dsvYULCWZ3YgsKTK/289KcuYm9ES1tPz+KemMEIMrh3fAM/V/wKPj2QK6FA6JzpBCpu1eYozVBA4DmVWMi4n3FKnvxYxMQdaHIcpEpcuDJE6KZC6lApYy+/CwSIJTFk14AhpRVN4ePqsLf2LIQBiBToRXTy3lFzocWIZNnyYYo9fTrBsYVn5iEkjnXAAAA)  ![4.webp](data:image/webp;base64,UklGRnAEAABXRUJQVlA4IGQEAADQGQCdASrnAFgAPrVUp00nJKOiJzQKEOAWiWdu3V+r6Ca6Q833/b/7abui3qb/zrp3b6l8Hf2SfM/bOI0cbaW9SnqS16ePb1Wf6nxy/TX7F/AJ0m/REKzCQF0XowkBdF6GrYCxR86x+hveTg08/Rau/88gd0vmJi1LRmLm/UQQ6q9758iJgCoD+ZXDsIC+jRkpY6Fl3qRjfdL9qDUFAhzqo2G2KzdJ5mlmWwPzSyY+0bkMenHFiIH7kTXIwwPLRPdx1MRxKMwfMxBrFas6tvGbc5OvY23N0AD+9xwAADzVIAlkN3r0QCpbnJAXnOSI3kANnsoFFhHZHwKXg18y1nYKXpu9E/EtGQ9I/WLrXwWFxyabFvcFf+WH1kqze5XztwZJZ9820soMQPGBFt4wXRBG9SyCr7gtMbEYnwjJsnU5zxJw7pDUjUyMHbnkWg5ugjqBLslMqspR/OsuvR7NNRTkhcrl9lct+bgZBG+DkaEkDCC9VpaeFQ/T1CqHu6Gxf/nGDsDsJJI4UcLs+Pk3TiAu73d/LhHBA5lYW5eBTk/gmIr5jL08tj/g1kMBsb286fCbA32nfFdmAAmMA0peVLhzGeQOHDfkiFv0HkDlHR3LI5KvCanu2b0Kaz3d+bWV8io3N9t8NXC8dCd/dcy4bqufyq5HQ23349FDWhmrtxuHUB9gjVJh2yY/7Vta/zLaAb0/KyBG0sw+OGA/aTR/7nY4h1/x29tBJhePXhd0q3wGVf5vLN9wYTw9fs4h+z05IMR0jgCZ23GDafcs9ZPcqTfpZJhs2mhqX1q6d0Ch30SroSJEWJ1mNifU3iKjYgfw4DInNWpik9HdSydeynygJ0sLKiDqnrkEb1pskbQ77NgitfBG8/bfoHGRN+rXReloYA0euAxGEnctkgjWDqdRZ98e3iUmiqrlu5EfdVxDEX5vJnTeVZdZF0R40lmydiHyFzvHP7EPY6X3YPr/R770o6YXnJutLK1lzppt0IAYXd2/UCEBq+VEzRU8yd/sgSgeanYtgJC8OfkqK4ZxLTgNIwbDioNdVIveI30KFgg7135FclLGLtPzwNRE5Nc1j0FRCFJRllO0YeexHKtGD9IvlXCSHGw7jxQBezBald8T0EpACwPGEDnu0qWw+qfVq+jc+BE26XyFXoUpkYxheEWdBItgTR2bWVplDXTNCB7CYQT7a1JWkJlGoZcONPU2xNSRDrEtk0xAJGTXUwFf45/pP15Ito2OCNs7BAoWzLjkQx5Ai7io5hGoUkwatPCodPb9pawS2hRoevEbN5O2v3RKR63U7ZdtJMfZprxkwEGLdBhx/e+/d5ayL5/kLKHRJcEMqPXmL7I458TDdo1WiC903gx/jev8WkfNRuRATe+Ti63xEvWSV8S0J3ii78NhUFy9pKHrqbvu50Baj20r7vsDUJ2ZgOlicn8Lyf35SF0mHc9qN3bsl/Vz2sDeegyzQw+FxgeT68ytalUlv/4su001gUAAAAAAAA==)"
      ],
      "metadata": {
        "id": "xn4jwSwTDtUw"
      }
    },
    {
      "cell_type": "code",
      "source": [],
      "metadata": {
        "id": "mhs-Nr6cFCms"
      },
      "execution_count": null,
      "outputs": []
    }
  ]
}