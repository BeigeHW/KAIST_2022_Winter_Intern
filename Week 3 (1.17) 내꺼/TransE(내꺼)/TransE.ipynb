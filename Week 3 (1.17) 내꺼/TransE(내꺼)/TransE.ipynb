{
  "cells": [
    {
      "cell_type": "code",
      "execution_count": null,
      "metadata": {
        "colab": {
          "base_uri": "https://localhost:8080/",
          "height": 1000
        },
        "id": "vmxDHWiA3N5W",
        "outputId": "bb6e6657-64eb-4629-ee7e-e392848f150d"
      },
      "outputs": [
        {
          "output_type": "stream",
          "name": "stdout",
          "text": [
            "Looking in indexes: https://pypi.org/simple, https://us-python.pkg.dev/colab-wheels/public/simple/\n",
            "Collecting optuna\n",
            "  Downloading optuna-3.0.5-py3-none-any.whl (348 kB)\n",
            "\u001b[2K     \u001b[90m━━━━━━━━━━━━━━━━━━━━━━━━━━━━━━━━━━━━━━\u001b[0m \u001b[32m348.5/348.5 KB\u001b[0m \u001b[31m27.5 MB/s\u001b[0m eta \u001b[36m0:00:00\u001b[0m\n",
            "\u001b[?25hCollecting ray\n",
            "  Downloading ray-2.2.0-cp38-cp38-manylinux2014_x86_64.whl (57.4 MB)\n",
            "\u001b[2K     \u001b[90m━━━━━━━━━━━━━━━━━━━━━━━━━━━━━━━━━━━━━━━━\u001b[0m \u001b[32m57.4/57.4 MB\u001b[0m \u001b[31m17.6 MB/s\u001b[0m eta \u001b[36m0:00:00\u001b[0m\n",
            "\u001b[?25hCollecting dgl\n",
            "  Downloading dgl-0.9.1-cp38-cp38-manylinux1_x86_64.whl (4.9 MB)\n",
            "\u001b[2K     \u001b[90m━━━━━━━━━━━━━━━━━━━━━━━━━━━━━━━━━━━━━━━━\u001b[0m \u001b[32m4.9/4.9 MB\u001b[0m \u001b[31m101.8 MB/s\u001b[0m eta \u001b[36m0:00:00\u001b[0m\n",
            "\u001b[?25hRequirement already satisfied: packaging>=20.0 in /usr/local/lib/python3.8/dist-packages (from optuna) (21.3)\n",
            "Collecting cliff\n",
            "  Downloading cliff-4.1.0-py3-none-any.whl (81 kB)\n",
            "\u001b[2K     \u001b[90m━━━━━━━━━━━━━━━━━━━━━━━━━━━━━━━━━━━━━━━━\u001b[0m \u001b[32m81.0/81.0 KB\u001b[0m \u001b[31m12.7 MB/s\u001b[0m eta \u001b[36m0:00:00\u001b[0m\n",
            "\u001b[?25hRequirement already satisfied: sqlalchemy>=1.3.0 in /usr/local/lib/python3.8/dist-packages (from optuna) (1.4.46)\n",
            "Requirement already satisfied: numpy in /usr/local/lib/python3.8/dist-packages (from optuna) (1.21.6)\n",
            "Collecting importlib-metadata<5.0.0\n",
            "  Downloading importlib_metadata-4.13.0-py3-none-any.whl (23 kB)\n",
            "Collecting colorlog\n",
            "  Downloading colorlog-6.7.0-py2.py3-none-any.whl (11 kB)\n",
            "Collecting alembic>=1.5.0\n",
            "  Downloading alembic-1.9.2-py3-none-any.whl (210 kB)\n",
            "\u001b[2K     \u001b[90m━━━━━━━━━━━━━━━━━━━━━━━━━━━━━━━━━━━━━━\u001b[0m \u001b[32m210.6/210.6 KB\u001b[0m \u001b[31m27.7 MB/s\u001b[0m eta \u001b[36m0:00:00\u001b[0m\n",
            "\u001b[?25hCollecting cmaes>=0.8.2\n",
            "  Downloading cmaes-0.9.1-py3-none-any.whl (21 kB)\n",
            "Requirement already satisfied: PyYAML in /usr/local/lib/python3.8/dist-packages (from optuna) (6.0)\n",
            "Requirement already satisfied: tqdm in /usr/local/lib/python3.8/dist-packages (from optuna) (4.64.1)\n",
            "Requirement already satisfied: scipy<1.9.0,>=1.7.0 in /usr/local/lib/python3.8/dist-packages (from optuna) (1.7.3)\n",
            "Requirement already satisfied: filelock in /usr/local/lib/python3.8/dist-packages (from ray) (3.9.0)\n",
            "Requirement already satisfied: click>=7.0 in /usr/local/lib/python3.8/dist-packages (from ray) (7.1.2)\n",
            "Requirement already satisfied: aiosignal in /usr/local/lib/python3.8/dist-packages (from ray) (1.3.1)\n",
            "Requirement already satisfied: protobuf!=3.19.5,>=3.15.3 in /usr/local/lib/python3.8/dist-packages (from ray) (3.19.6)\n",
            "Requirement already satisfied: msgpack<2.0.0,>=1.0.0 in /usr/local/lib/python3.8/dist-packages (from ray) (1.0.4)\n",
            "Requirement already satisfied: frozenlist in /usr/local/lib/python3.8/dist-packages (from ray) (1.3.3)\n",
            "Requirement already satisfied: requests in /usr/local/lib/python3.8/dist-packages (from ray) (2.25.1)\n",
            "Collecting virtualenv>=20.0.24\n",
            "  Downloading virtualenv-20.17.1-py3-none-any.whl (8.8 MB)\n",
            "\u001b[2K     \u001b[90m━━━━━━━━━━━━━━━━━━━━━━━━━━━━━━━━━━━━━━━━\u001b[0m \u001b[32m8.8/8.8 MB\u001b[0m \u001b[31m73.1 MB/s\u001b[0m eta \u001b[36m0:00:00\u001b[0m\n",
            "\u001b[?25hRequirement already satisfied: attrs in /usr/local/lib/python3.8/dist-packages (from ray) (22.2.0)\n",
            "Requirement already satisfied: grpcio>=1.32.0 in /usr/local/lib/python3.8/dist-packages (from ray) (1.51.1)\n",
            "Requirement already satisfied: jsonschema in /usr/local/lib/python3.8/dist-packages (from ray) (4.3.3)\n",
            "Collecting psutil>=5.8.0\n",
            "  Downloading psutil-5.9.4-cp36-abi3-manylinux_2_12_x86_64.manylinux2010_x86_64.manylinux_2_17_x86_64.manylinux2014_x86_64.whl (280 kB)\n",
            "\u001b[2K     \u001b[90m━━━━━━━━━━━━━━━━━━━━━━━━━━━━━━━━━━━━━━\u001b[0m \u001b[32m280.2/280.2 KB\u001b[0m \u001b[31m26.9 MB/s\u001b[0m eta \u001b[36m0:00:00\u001b[0m\n",
            "\u001b[?25hRequirement already satisfied: networkx>=2.1 in /usr/local/lib/python3.8/dist-packages (from dgl) (2.8.8)\n",
            "Collecting Mako\n",
            "  Downloading Mako-1.2.4-py3-none-any.whl (78 kB)\n",
            "\u001b[2K     \u001b[90m━━━━━━━━━━━━━━━━━━━━━━━━━━━━━━━━━━━━━━━━\u001b[0m \u001b[32m78.7/78.7 KB\u001b[0m \u001b[31m10.3 MB/s\u001b[0m eta \u001b[36m0:00:00\u001b[0m\n",
            "\u001b[?25hRequirement already satisfied: importlib-resources in /usr/local/lib/python3.8/dist-packages (from alembic>=1.5.0->optuna) (5.10.2)\n",
            "Requirement already satisfied: zipp>=0.5 in /usr/local/lib/python3.8/dist-packages (from importlib-metadata<5.0.0->optuna) (3.11.0)\n",
            "Requirement already satisfied: pyparsing!=3.0.5,>=2.0.2 in /usr/local/lib/python3.8/dist-packages (from packaging>=20.0->optuna) (3.0.9)\n",
            "Requirement already satisfied: idna<3,>=2.5 in /usr/local/lib/python3.8/dist-packages (from requests->ray) (2.10)\n",
            "Requirement already satisfied: chardet<5,>=3.0.2 in /usr/local/lib/python3.8/dist-packages (from requests->ray) (4.0.0)\n",
            "Requirement already satisfied: certifi>=2017.4.17 in /usr/local/lib/python3.8/dist-packages (from requests->ray) (2022.12.7)\n",
            "Requirement already satisfied: urllib3<1.27,>=1.21.1 in /usr/local/lib/python3.8/dist-packages (from requests->ray) (1.24.3)\n",
            "Requirement already satisfied: greenlet!=0.4.17 in /usr/local/lib/python3.8/dist-packages (from sqlalchemy>=1.3.0->optuna) (2.0.1)\n",
            "Collecting distlib<1,>=0.3.6\n",
            "  Downloading distlib-0.3.6-py2.py3-none-any.whl (468 kB)\n",
            "\u001b[2K     \u001b[90m━━━━━━━━━━━━━━━━━━━━━━━━━━━━━━━━━━━━━━\u001b[0m \u001b[32m468.5/468.5 KB\u001b[0m \u001b[31m46.4 MB/s\u001b[0m eta \u001b[36m0:00:00\u001b[0m\n",
            "\u001b[?25hRequirement already satisfied: platformdirs<3,>=2.4 in /usr/local/lib/python3.8/dist-packages (from virtualenv>=20.0.24->ray) (2.6.2)\n",
            "Collecting autopage>=0.4.0\n",
            "  Downloading autopage-0.5.1-py3-none-any.whl (29 kB)\n",
            "Collecting cmd2>=1.0.0\n",
            "  Downloading cmd2-2.4.2-py3-none-any.whl (147 kB)\n",
            "\u001b[2K     \u001b[90m━━━━━━━━━━━━━━━━━━━━━━━━━━━━━━━━━━━━━━\u001b[0m \u001b[32m147.1/147.1 KB\u001b[0m \u001b[31m21.0 MB/s\u001b[0m eta \u001b[36m0:00:00\u001b[0m\n",
            "\u001b[?25hRequirement already satisfied: PrettyTable>=0.7.2 in /usr/local/lib/python3.8/dist-packages (from cliff->optuna) (3.5.0)\n",
            "Collecting stevedore>=2.0.1\n",
            "  Downloading stevedore-4.1.1-py3-none-any.whl (50 kB)\n",
            "\u001b[2K     \u001b[90m━━━━━━━━━━━━━━━━━━━━━━━━━━━━━━━━━━━━━━━━\u001b[0m \u001b[32m50.0/50.0 KB\u001b[0m \u001b[31m7.2 MB/s\u001b[0m eta \u001b[36m0:00:00\u001b[0m\n",
            "\u001b[?25hRequirement already satisfied: pyrsistent!=0.17.0,!=0.17.1,!=0.17.2,>=0.14.0 in /usr/local/lib/python3.8/dist-packages (from jsonschema->ray) (0.19.3)\n",
            "Collecting pyperclip>=1.6\n",
            "  Downloading pyperclip-1.8.2.tar.gz (20 kB)\n",
            "  Preparing metadata (setup.py) ... \u001b[?25l\u001b[?25hdone\n",
            "Requirement already satisfied: wcwidth>=0.1.7 in /usr/local/lib/python3.8/dist-packages (from cmd2>=1.0.0->cliff->optuna) (0.2.5)\n",
            "Collecting pbr!=2.1.0,>=2.0.0\n",
            "  Downloading pbr-5.11.1-py2.py3-none-any.whl (112 kB)\n",
            "\u001b[2K     \u001b[90m━━━━━━━━━━━━━━━━━━━━━━━━━━━━━━━━━━━━━━\u001b[0m \u001b[32m112.7/112.7 KB\u001b[0m \u001b[31m15.6 MB/s\u001b[0m eta \u001b[36m0:00:00\u001b[0m\n",
            "\u001b[?25hRequirement already satisfied: MarkupSafe>=0.9.2 in /usr/local/lib/python3.8/dist-packages (from Mako->alembic>=1.5.0->optuna) (2.0.1)\n",
            "Building wheels for collected packages: pyperclip\n",
            "  Building wheel for pyperclip (setup.py) ... \u001b[?25l\u001b[?25hdone\n",
            "  Created wheel for pyperclip: filename=pyperclip-1.8.2-py3-none-any.whl size=11136 sha256=d1492e8e730be02897b0265a969d1e396295076991e9c2c179d12fe656a6e0fc\n",
            "  Stored in directory: /root/.cache/pip/wheels/7f/1a/65/84ff8c386bec21fca6d220ea1f5498a0367883a78dd5ba6122\n",
            "Successfully built pyperclip\n",
            "Installing collected packages: pyperclip, distlib, virtualenv, psutil, pbr, Mako, importlib-metadata, colorlog, cmd2, cmaes, autopage, stevedore, dgl, alembic, ray, cliff, optuna\n",
            "  Attempting uninstall: psutil\n",
            "    Found existing installation: psutil 5.4.8\n",
            "    Uninstalling psutil-5.4.8:\n",
            "      Successfully uninstalled psutil-5.4.8\n",
            "  Attempting uninstall: importlib-metadata\n",
            "    Found existing installation: importlib-metadata 6.0.0\n",
            "    Uninstalling importlib-metadata-6.0.0:\n",
            "      Successfully uninstalled importlib-metadata-6.0.0\n",
            "Successfully installed Mako-1.2.4 alembic-1.9.2 autopage-0.5.1 cliff-4.1.0 cmaes-0.9.1 cmd2-2.4.2 colorlog-6.7.0 dgl-0.9.1 distlib-0.3.6 importlib-metadata-4.13.0 optuna-3.0.5 pbr-5.11.1 psutil-5.9.4 pyperclip-1.8.2 ray-2.2.0 stevedore-4.1.1 virtualenv-20.17.1\n"
          ]
        },
        {
          "output_type": "display_data",
          "data": {
            "application/vnd.colab-display-data+json": {
              "pip_warning": {
                "packages": [
                  "psutil"
                ]
              }
            }
          },
          "metadata": {}
        }
      ],
      "source": [
        "pip install optuna ray dgl"
      ]
    },
    {
      "cell_type": "code",
      "execution_count": null,
      "metadata": {
        "id": "_YQuwpByYnnQ"
      },
      "outputs": [],
      "source": [
        "pwd"
      ]
    },
    {
      "cell_type": "code",
      "execution_count": null,
      "metadata": {
        "colab": {
          "base_uri": "https://localhost:8080/"
        },
        "id": "PuTFTY44MvJo",
        "outputId": "f5381da6-0c86-4616-baab-d84e5d280229"
      },
      "outputs": [
        {
          "name": "stdout",
          "output_type": "stream",
          "text": [
            "/content/drive/MyDrive/Colab Notebooks/TransE\n"
          ]
        }
      ],
      "source": [
        "cd /content/drive/MyDrive/Colab Notebooks/TransE"
      ]
    },
    {
      "cell_type": "code",
      "execution_count": null,
      "metadata": {
        "colab": {
          "base_uri": "https://localhost:8080/",
          "height": 329
        },
        "id": "CfH2X-DmLnhc",
        "outputId": "2d1bae75-390c-4cf4-cd74-56354e4171c7"
      },
      "outputs": [
        {
          "ename": "MessageError",
          "evalue": "ignored",
          "output_type": "error",
          "traceback": [
            "\u001b[0;31m---------------------------------------------------------------------------\u001b[0m",
            "\u001b[0;31mMessageError\u001b[0m                              Traceback (most recent call last)",
            "\u001b[0;32m<ipython-input-3-d5df0069828e>\u001b[0m in \u001b[0;36m<module>\u001b[0;34m\u001b[0m\n\u001b[1;32m      1\u001b[0m \u001b[0;32mfrom\u001b[0m \u001b[0mgoogle\u001b[0m\u001b[0;34m.\u001b[0m\u001b[0mcolab\u001b[0m \u001b[0;32mimport\u001b[0m \u001b[0mdrive\u001b[0m\u001b[0;34m\u001b[0m\u001b[0;34m\u001b[0m\u001b[0m\n\u001b[0;32m----> 2\u001b[0;31m \u001b[0mdrive\u001b[0m\u001b[0;34m.\u001b[0m\u001b[0mmount\u001b[0m\u001b[0;34m(\u001b[0m\u001b[0;34m'/content/drive'\u001b[0m\u001b[0;34m)\u001b[0m\u001b[0;34m\u001b[0m\u001b[0;34m\u001b[0m\u001b[0m\n\u001b[0m",
            "\u001b[0;32m/usr/local/lib/python3.8/dist-packages/google/colab/drive.py\u001b[0m in \u001b[0;36mmount\u001b[0;34m(mountpoint, force_remount, timeout_ms, readonly)\u001b[0m\n\u001b[1;32m     99\u001b[0m \u001b[0;32mdef\u001b[0m \u001b[0mmount\u001b[0m\u001b[0;34m(\u001b[0m\u001b[0mmountpoint\u001b[0m\u001b[0;34m,\u001b[0m \u001b[0mforce_remount\u001b[0m\u001b[0;34m=\u001b[0m\u001b[0;32mFalse\u001b[0m\u001b[0;34m,\u001b[0m \u001b[0mtimeout_ms\u001b[0m\u001b[0;34m=\u001b[0m\u001b[0;36m120000\u001b[0m\u001b[0;34m,\u001b[0m \u001b[0mreadonly\u001b[0m\u001b[0;34m=\u001b[0m\u001b[0;32mFalse\u001b[0m\u001b[0;34m)\u001b[0m\u001b[0;34m:\u001b[0m\u001b[0;34m\u001b[0m\u001b[0;34m\u001b[0m\u001b[0m\n\u001b[1;32m    100\u001b[0m   \u001b[0;34m\"\"\"Mount your Google Drive at the specified mountpoint path.\"\"\"\u001b[0m\u001b[0;34m\u001b[0m\u001b[0;34m\u001b[0m\u001b[0m\n\u001b[0;32m--> 101\u001b[0;31m   return _mount(\n\u001b[0m\u001b[1;32m    102\u001b[0m       \u001b[0mmountpoint\u001b[0m\u001b[0;34m,\u001b[0m\u001b[0;34m\u001b[0m\u001b[0;34m\u001b[0m\u001b[0m\n\u001b[1;32m    103\u001b[0m       \u001b[0mforce_remount\u001b[0m\u001b[0;34m=\u001b[0m\u001b[0mforce_remount\u001b[0m\u001b[0;34m,\u001b[0m\u001b[0;34m\u001b[0m\u001b[0;34m\u001b[0m\u001b[0m\n",
            "\u001b[0;32m/usr/local/lib/python3.8/dist-packages/google/colab/drive.py\u001b[0m in \u001b[0;36m_mount\u001b[0;34m(mountpoint, force_remount, timeout_ms, ephemeral, readonly)\u001b[0m\n\u001b[1;32m    122\u001b[0m       'TBE_EPHEM_CREDS_ADDR'] if ephemeral else _os.environ['TBE_CREDS_ADDR']\n\u001b[1;32m    123\u001b[0m   \u001b[0;32mif\u001b[0m \u001b[0mephemeral\u001b[0m\u001b[0;34m:\u001b[0m\u001b[0;34m\u001b[0m\u001b[0;34m\u001b[0m\u001b[0m\n\u001b[0;32m--> 124\u001b[0;31m     _message.blocking_request(\n\u001b[0m\u001b[1;32m    125\u001b[0m         'request_auth', request={'authType': 'dfs_ephemeral'}, timeout_sec=None)\n\u001b[1;32m    126\u001b[0m \u001b[0;34m\u001b[0m\u001b[0m\n",
            "\u001b[0;32m/usr/local/lib/python3.8/dist-packages/google/colab/_message.py\u001b[0m in \u001b[0;36mblocking_request\u001b[0;34m(request_type, request, timeout_sec, parent)\u001b[0m\n\u001b[1;32m    169\u001b[0m   request_id = send_request(\n\u001b[1;32m    170\u001b[0m       request_type, request, parent=parent, expect_reply=True)\n\u001b[0;32m--> 171\u001b[0;31m   \u001b[0;32mreturn\u001b[0m \u001b[0mread_reply_from_input\u001b[0m\u001b[0;34m(\u001b[0m\u001b[0mrequest_id\u001b[0m\u001b[0;34m,\u001b[0m \u001b[0mtimeout_sec\u001b[0m\u001b[0;34m)\u001b[0m\u001b[0;34m\u001b[0m\u001b[0;34m\u001b[0m\u001b[0m\n\u001b[0m",
            "\u001b[0;32m/usr/local/lib/python3.8/dist-packages/google/colab/_message.py\u001b[0m in \u001b[0;36mread_reply_from_input\u001b[0;34m(message_id, timeout_sec)\u001b[0m\n\u001b[1;32m    100\u001b[0m         reply.get('colab_msg_id') == message_id):\n\u001b[1;32m    101\u001b[0m       \u001b[0;32mif\u001b[0m \u001b[0;34m'error'\u001b[0m \u001b[0;32min\u001b[0m \u001b[0mreply\u001b[0m\u001b[0;34m:\u001b[0m\u001b[0;34m\u001b[0m\u001b[0;34m\u001b[0m\u001b[0m\n\u001b[0;32m--> 102\u001b[0;31m         \u001b[0;32mraise\u001b[0m \u001b[0mMessageError\u001b[0m\u001b[0;34m(\u001b[0m\u001b[0mreply\u001b[0m\u001b[0;34m[\u001b[0m\u001b[0;34m'error'\u001b[0m\u001b[0;34m]\u001b[0m\u001b[0;34m)\u001b[0m\u001b[0;34m\u001b[0m\u001b[0;34m\u001b[0m\u001b[0m\n\u001b[0m\u001b[1;32m    103\u001b[0m       \u001b[0;32mreturn\u001b[0m \u001b[0mreply\u001b[0m\u001b[0;34m.\u001b[0m\u001b[0mget\u001b[0m\u001b[0;34m(\u001b[0m\u001b[0;34m'data'\u001b[0m\u001b[0;34m,\u001b[0m \u001b[0;32mNone\u001b[0m\u001b[0;34m)\u001b[0m\u001b[0;34m\u001b[0m\u001b[0;34m\u001b[0m\u001b[0m\n\u001b[1;32m    104\u001b[0m \u001b[0;34m\u001b[0m\u001b[0m\n",
            "\u001b[0;31mMessageError\u001b[0m: Error: credential propagation was unsuccessful"
          ]
        }
      ],
      "source": [
        "from google.colab import drive\n",
        "drive.mount('/content/drive')"
      ]
    },
    {
      "cell_type": "code",
      "execution_count": null,
      "metadata": {
        "colab": {
          "base_uri": "https://localhost:8080/"
        },
        "id": "Eu_MtxD8LkRU",
        "outputId": "365990a6-b6e5-4175-8e5a-2cd6d8776eee"
      },
      "outputs": [
        {
          "output_type": "stream",
          "name": "stderr",
          "text": [
            "\u001b[32m[I 2023-01-16 05:04:18,934]\u001b[0m A new study created in memory with name: no-name-8634d846-7c72-4025-80f2-9f4fbf119370\u001b[0m\n",
            "<ipython-input-3-d4f3eea646a6>:117: FutureWarning: suggest_uniform has been deprecated in v3.0.0. This feature will be removed in v6.0.0. See https://github.com/optuna/optuna/releases/tag/v3.0.0. Use :func:`~optuna.trial.Trial.suggest_float` instead.\n",
            "  learning_rate = trial.suggest_uniform('learning_rate', 1e-6, 1e-4)\n",
            "<ipython-input-3-d4f3eea646a6>:119: FutureWarning: suggest_uniform has been deprecated in v3.0.0. This feature will be removed in v6.0.0. See https://github.com/optuna/optuna/releases/tag/v3.0.0. Use :func:`~optuna.trial.Trial.suggest_float` instead.\n",
            "  embed_dim = int(trial.suggest_uniform('embed_dim', low = 15, high = 20))\n",
            "<ipython-input-3-d4f3eea646a6>:122: FutureWarning: suggest_uniform has been deprecated in v3.0.0. This feature will be removed in v6.0.0. See https://github.com/optuna/optuna/releases/tag/v3.0.0. Use :func:`~optuna.trial.Trial.suggest_float` instead.\n",
            "  gamma = int(trial.suggest_uniform('gamma', low= 1, high= 10))\n"
          ]
        },
        {
          "output_type": "stream",
          "name": "stdout",
          "text": [
            "# entities: 14541\n",
            "# relations: 237\n",
            "# training edges: 272115\n",
            "# validation edges: 17535\n",
            "# testing edges: 20466\n",
            "Done loading data from cached files.\n",
            "[ 3364  3001   246 ...  8429  9963 11836]\n",
            "max : 14540\n",
            "length : 620232\n",
            "unique_head : [    0     1     2 ... 14538 14539 14540]\n",
            "unique_length : 14541\n",
            "[ 8619  1538  1538 ...  4799 14109 12630]\n",
            "max : 14540\n",
            "length : 620232\n",
            "unique_head : [    0     1     2 ... 14538 14539 14540]\n",
            "unique_length : 14541\n"
          ]
        },
        {
          "output_type": "stream",
          "name": "stderr",
          "text": [
            "<ipython-input-3-d4f3eea646a6>:96: UserWarning: To copy construct from a tensor, it is recommended to use sourceTensor.clone().detach() or sourceTensor.clone().detach().requires_grad_(True), rather than torch.tensor(sourceTensor).\n",
            "  head_prime  = torch.tensor(head_p).to(self.configure.device).long()\n",
            "<ipython-input-3-d4f3eea646a6>:98: UserWarning: To copy construct from a tensor, it is recommended to use sourceTensor.clone().detach() or sourceTensor.clone().detach().requires_grad_(True), rather than torch.tensor(sourceTensor).\n",
            "  tail_prime  = torch.tensor(tail_p).to(self.configure.device).long()\n"
          ]
        },
        {
          "output_type": "stream",
          "name": "stdout",
          "text": [
            "EPOCH 1 : Loss 26.4\n",
            "EPOCH 2 : Loss 19.6\n",
            "EPOCH 3 : Loss 12.2\n",
            "EPOCH 4 : Loss 8.3\n",
            "EPOCH 5 : Loss 5.2\n",
            "EPOCH 6 : Loss 3.6\n",
            "EPOCH 7 : Loss 3.0\n",
            "EPOCH 8 : Loss 1.5\n",
            "EPOCH 9 : Loss 1.8\n",
            "EPOCH 10 : Loss 1.9\n"
          ]
        },
        {
          "output_type": "stream",
          "name": "stderr",
          "text": [
            "\u001b[32m[I 2023-01-16 05:10:47,637]\u001b[0m Trial 0 finished with value: 0.0 and parameters: {'learning_rate': 3.677283887307401e-05, 'embed_dim': 16.558051633775882, 'gamma': 5.903829723808415}. Best is trial 0 with value: 0.0.\u001b[0m\n"
          ]
        },
        {
          "output_type": "stream",
          "name": "stdout",
          "text": [
            "# entities: 14541\n",
            "# relations: 237\n",
            "# training edges: 272115\n",
            "# validation edges: 17535\n",
            "# testing edges: 20466\n",
            "Done loading data from cached files.\n",
            "[ 3364  3001   246 ...  8429  9963 11836]\n",
            "max : 14540\n",
            "length : 620232\n",
            "unique_head : [    0     1     2 ... 14538 14539 14540]\n",
            "unique_length : 14541\n",
            "[ 8619  1538  1538 ...  4799 14109 12630]\n",
            "max : 14540\n",
            "length : 620232\n",
            "unique_head : [    0     1     2 ... 14538 14539 14540]\n",
            "unique_length : 14541\n",
            "EPOCH 1 : Loss 25.5\n",
            "EPOCH 2 : Loss 23.3\n",
            "EPOCH 3 : Loss 23.1\n",
            "EPOCH 4 : Loss 23.3\n",
            "EPOCH 5 : Loss 22.5\n",
            "EPOCH 6 : Loss 20.4\n",
            "EPOCH 7 : Loss 20.8\n",
            "EPOCH 8 : Loss 21.6\n",
            "EPOCH 9 : Loss 20.2\n",
            "EPOCH 10 : Loss 17.3\n"
          ]
        },
        {
          "output_type": "stream",
          "name": "stderr",
          "text": [
            "\u001b[32m[I 2023-01-16 05:17:19,981]\u001b[0m Trial 1 finished with value: 79.4140625 and parameters: {'learning_rate': 1.8559680835198725e-06, 'embed_dim': 18.462567006354803, 'gamma': 6.420732350437263}. Best is trial 0 with value: 0.0.\u001b[0m\n"
          ]
        },
        {
          "output_type": "stream",
          "name": "stdout",
          "text": [
            "# entities: 14541\n",
            "# relations: 237\n",
            "# training edges: 272115\n",
            "# validation edges: 17535\n",
            "# testing edges: 20466\n",
            "Done loading data from cached files.\n",
            "[ 3364  3001   246 ...  8429  9963 11836]\n",
            "max : 14540\n",
            "length : 620232\n",
            "unique_head : [    0     1     2 ... 14538 14539 14540]\n",
            "unique_length : 14541\n",
            "[ 8619  1538  1538 ...  4799 14109 12630]\n",
            "max : 14540\n",
            "length : 620232\n",
            "unique_head : [    0     1     2 ... 14538 14539 14540]\n",
            "unique_length : 14541\n",
            "EPOCH 1 : Loss 14.8\n",
            "EPOCH 2 : Loss 7.7\n",
            "EPOCH 3 : Loss 5.5\n",
            "EPOCH 4 : Loss 5.3\n",
            "EPOCH 5 : Loss 4.1\n",
            "EPOCH 6 : Loss 3.2\n",
            "EPOCH 7 : Loss 2.2\n",
            "EPOCH 8 : Loss 2.0\n",
            "EPOCH 9 : Loss 2.4\n",
            "EPOCH 10 : Loss 0.8\n"
          ]
        },
        {
          "output_type": "stream",
          "name": "stderr",
          "text": [
            "\u001b[32m[I 2023-01-16 05:23:41,989]\u001b[0m Trial 2 finished with value: 0.0 and parameters: {'learning_rate': 3.495835768034617e-05, 'embed_dim': 18.222576300422958, 'gamma': 3.949330874654497}. Best is trial 0 with value: 0.0.\u001b[0m\n"
          ]
        },
        {
          "output_type": "stream",
          "name": "stdout",
          "text": [
            "# entities: 14541\n",
            "# relations: 237\n",
            "# training edges: 272115\n",
            "# validation edges: 17535\n",
            "# testing edges: 20466\n",
            "Done loading data from cached files.\n",
            "[ 3364  3001   246 ...  8429  9963 11836]\n",
            "max : 14540\n",
            "length : 620232\n",
            "unique_head : [    0     1     2 ... 14538 14539 14540]\n",
            "unique_length : 14541\n",
            "[ 8619  1538  1538 ...  4799 14109 12630]\n",
            "max : 14540\n",
            "length : 620232\n",
            "unique_head : [    0     1     2 ... 14538 14539 14540]\n",
            "unique_length : 14541\n",
            "EPOCH 1 : Loss 28.4\n",
            "EPOCH 2 : Loss 22.3\n",
            "EPOCH 3 : Loss 18.4\n",
            "EPOCH 4 : Loss 15.5\n",
            "EPOCH 5 : Loss 12.7\n",
            "EPOCH 6 : Loss 8.4\n",
            "EPOCH 7 : Loss 8.9\n",
            "EPOCH 8 : Loss 8.8\n",
            "EPOCH 9 : Loss 6.1\n",
            "EPOCH 10 : Loss 7.9\n"
          ]
        },
        {
          "output_type": "stream",
          "name": "stderr",
          "text": [
            "\u001b[32m[I 2023-01-16 05:30:07,027]\u001b[0m Trial 3 finished with value: 146.984375 and parameters: {'learning_rate': 1.23985783275212e-05, 'embed_dim': 17.48438320022862, 'gamma': 1.5762127955739482}. Best is trial 0 with value: 0.0.\u001b[0m\n"
          ]
        },
        {
          "output_type": "stream",
          "name": "stdout",
          "text": [
            "# entities: 14541\n",
            "# relations: 237\n",
            "# training edges: 272115\n",
            "# validation edges: 17535\n",
            "# testing edges: 20466\n",
            "Done loading data from cached files.\n",
            "[ 3364  3001   246 ...  8429  9963 11836]\n",
            "max : 14540\n",
            "length : 620232\n",
            "unique_head : [    0     1     2 ... 14538 14539 14540]\n",
            "unique_length : 14541\n",
            "[ 8619  1538  1538 ...  4799 14109 12630]\n",
            "max : 14540\n",
            "length : 620232\n",
            "unique_head : [    0     1     2 ... 14538 14539 14540]\n",
            "unique_length : 14541\n",
            "EPOCH 1 : Loss 61.5\n",
            "EPOCH 2 : Loss 20.2\n",
            "EPOCH 3 : Loss 10.4\n",
            "EPOCH 4 : Loss 5.4\n",
            "EPOCH 5 : Loss 4.5\n",
            "EPOCH 6 : Loss 3.3\n",
            "EPOCH 7 : Loss 1.2\n",
            "EPOCH 8 : Loss 1.2\n",
            "EPOCH 9 : Loss 0.4\n",
            "EPOCH 10 : Loss 0.6\n"
          ]
        },
        {
          "output_type": "stream",
          "name": "stderr",
          "text": [
            "\u001b[32m[I 2023-01-16 05:36:22,096]\u001b[0m Trial 4 finished with value: 0.0 and parameters: {'learning_rate': 7.592799412699561e-05, 'embed_dim': 15.015260546573002, 'gamma': 5.762076621501342}. Best is trial 0 with value: 0.0.\u001b[0m\n"
          ]
        },
        {
          "output_type": "stream",
          "name": "stdout",
          "text": [
            "# entities: 14541\n",
            "# relations: 237\n",
            "# training edges: 272115\n",
            "# validation edges: 17535\n",
            "# testing edges: 20466\n",
            "Done loading data from cached files.\n",
            "[ 3364  3001   246 ...  8429  9963 11836]\n",
            "max : 14540\n",
            "length : 620232\n",
            "unique_head : [    0     1     2 ... 14538 14539 14540]\n",
            "unique_length : 14541\n",
            "[ 8619  1538  1538 ...  4799 14109 12630]\n",
            "max : 14540\n",
            "length : 620232\n",
            "unique_head : [    0     1     2 ... 14538 14539 14540]\n",
            "unique_length : 14541\n",
            "EPOCH 1 : Loss 21.7\n",
            "EPOCH 2 : Loss 8.5\n",
            "EPOCH 3 : Loss 6.5\n",
            "EPOCH 4 : Loss 3.9\n",
            "EPOCH 5 : Loss 2.6\n",
            "EPOCH 6 : Loss 2.5\n",
            "EPOCH 7 : Loss 1.2\n",
            "EPOCH 8 : Loss 1.4\n",
            "EPOCH 9 : Loss 0.6\n",
            "EPOCH 10 : Loss 1.2\n"
          ]
        },
        {
          "output_type": "stream",
          "name": "stderr",
          "text": [
            "\u001b[32m[I 2023-01-16 05:42:33,005]\u001b[0m Trial 5 finished with value: 0.0 and parameters: {'learning_rate': 5.0573516847170787e-05, 'embed_dim': 17.170209815581735, 'gamma': 8.40733581158512}. Best is trial 0 with value: 0.0.\u001b[0m\n"
          ]
        },
        {
          "output_type": "stream",
          "name": "stdout",
          "text": [
            "Accuracy: 0.0\n",
            "Best hyperparameters: {'learning_rate': 3.677283887307401e-05, 'embed_dim': 16.558051633775882, 'gamma': 5.903829723808415}\n"
          ]
        },
        {
          "output_type": "display_data",
          "data": {
            "text/plain": [
              "<Figure size 432x288 with 1 Axes>"
            ],
            "image/png": "[encoded data removed]"
          },
          "metadata": {
            "needs_background": "light"
          }
        }
      ],
      "source": [
        "import numpy as np\n",
        "import pandas as pd\n",
        "\n",
        "from collections import defaultdict\n",
        "from copy import deepcopy\n",
        "\n",
        "import torch\n",
        "import torch.nn as nn\n",
        "from torch.utils.data import Dataset, DataLoader\n",
        "import torch.optim as optim\n",
        "\n",
        "import matplotlib.pyplot as plt\n",
        "\n",
        "from dgl.data import FB15k237Dataset\n",
        "import optuna\n",
        "import sys\n",
        "import sys\n",
        "\n",
        "\n",
        "\n",
        "\n",
        "#여기서부터 dataset\n",
        "class KgDataset(Dataset):\n",
        "    def __init__(self, head, tail, label, neg_sample_k, head_neg, tail_neg):\n",
        "        super().__init__()\n",
        "        self.head = head\n",
        "        self.tail = tail\n",
        "        self.label = label\n",
        "        self.neg_sample_k = neg_sample_k\n",
        "        self.head_neg = head_neg\n",
        "        self.tail_neg = tail_neg\n",
        "\n",
        "    def __len__(self):\n",
        "        return len(self.head)\n",
        "\n",
        "    def __getitem__(self, idx):\n",
        "        head, tail, label = self.head[idx], self.tail[idx], self.label[idx]\n",
        "        tail_prime = np.random.choice(self.head_neg[head], self.neg_sample_k)\n",
        "        head_prime = np.random.choice(self.tail_neg[tail], self.neg_sample_k)\n",
        "\n",
        "        return {'head':head, 'label':label, 'tail':tail, 'tail_p':tail_prime, 'head_p':head_prime}\n",
        "\n",
        "def prepare_neg_entity(head, tail, label):\n",
        "\n",
        "    rel_matrix = np.zeros((len(np.unique(head)), len(np.unique(head))))\n",
        "    for h,t,l in zip(head, tail, label):\n",
        "        rel_matrix[h,t] = l\n",
        "\n",
        "    rel_matrix[rel_matrix>0] = -1\n",
        "    rel_matrix[rel_matrix==0] = 1\n",
        "    series = torch.arange(np.max(head)+1)\n",
        "\n",
        "    head_neg = {}\n",
        "    for h in np.unique(head):\n",
        "      temp = np.multiply(series, rel_matrix[h, :])\n",
        "      temp = temp[(temp >= 0)]\n",
        "      head_neg[h] = deepcopy(temp)\n",
        "\n",
        "    tail_neg = {}\n",
        "    for t in np.unique(tail):\n",
        "      temp = np.multiply(series, rel_matrix[:, t])\n",
        "      temp = temp[(temp >= 0)]\n",
        "      tail_neg[t] = deepcopy(temp)\n",
        "    return head_neg, tail_neg\n",
        "\n",
        "#여기까지 dataset\n",
        "\n",
        "\n",
        "#여기서부터 model\n",
        "class TransE(nn.Module):\n",
        "    def __init__(self, num_entity, num_label, embed_dim, gamma, configure):\n",
        "        super().__init__()\n",
        "        self.embed_label = nn.Embedding(num_label, embed_dim)\n",
        "        nn.init.uniform_(self.embed_label.weight,\n",
        "        -6/torch.sqrt(torch.tensor(embed_dim)),\n",
        "        6/torch.sqrt(torch.tensor(embed_dim)))\n",
        "\n",
        "        self.embed_entity = nn.Embedding(num_entity, embed_dim)\n",
        "        nn.init.uniform_(self.embed_entity.weight,\n",
        "        -6/torch.sqrt(torch.tensor(embed_dim)),\n",
        "        6/torch.sqrt(torch.tensor(embed_dim)))\n",
        "\n",
        "        self.gamma = gamma\n",
        "        self.embed_dim = embed_dim\n",
        "        self.configure = configure\n",
        "\n",
        "    def forward(self, batch):\n",
        "        head, label, tail = batch['head'], batch['label'], batch['tail']\n",
        "        head_p, tail_p = batch['head_p'], batch['tail_p']\n",
        "        batch_size = head.size(0)\n",
        "\n",
        "        head = self.embed_entity(head) # (batch_size, embed_dim)\n",
        "        tail = self.embed_entity(tail) # (batch_size, embed_dim)\n",
        "        rel = self.embed_label(label) # (batch_size, embed_dim)\n",
        "\n",
        "        head_prime  = torch.tensor(head_p).to(self.configure.device).long()\n",
        "        #to match the input data type\n",
        "        tail_prime  = torch.tensor(tail_p).to(self.configure.device).long()\n",
        "        #to match the input data type\n",
        "\n",
        "        head_prime = self.embed_entity(head_prime) # (batch_size, neg_sample, embed_dim)\n",
        "        tail_prime = self.embed_entity(tail_prime) # (batch_size, neg_sample, embed_dim)\n",
        "\n",
        "        dsm_correct = torch.norm(head + rel - tail, 2, dim=1) # (batch_size)\n",
        "        dsm_corrupt_1 = torch.norm(head_prime + rel.unsqueeze(1) - tail.unsqueeze(1), 2, dim=2)\n",
        "        # (batch_size, neg_sample)\n",
        "        dsm_corrupt_2 = torch.norm((head + rel).unsqueeze(1) - tail_prime, 2, dim=2)\n",
        "        # (batch_size, neg_sample)\n",
        "\n",
        "        loss = torch.max(torch.sum(0*dsm_correct), torch.sum(self.gamma + 2*self.configure.neg_sample*torch.sum(dsm_correct)-torch.sum(dsm_corrupt_1+dsm_corrupt_2)))\n",
        "        return loss\n",
        "\n",
        "#여기까지 model\n",
        "def train_mnist(trial):\n",
        "\n",
        "  class Configure():\n",
        "          learning_rate = trial.suggest_uniform('learning_rate', 1e-6, 1e-4)\n",
        "          batch_size = 1024\n",
        "          embed_dim = int(trial.suggest_uniform('embed_dim', low = 15, high = 20))\n",
        "          device = 'cuda:0' if torch.cuda.is_available() else 'cpu'\n",
        "          neg_sample = 5 # h'와 t' 각각 count\n",
        "          gamma = int(trial.suggest_uniform('gamma', low= 1, high= 10))\n",
        "\n",
        "          epochs = 10\n",
        "  dataset = FB15k237Dataset()\n",
        "  graph = dataset[0]\n",
        "  train_mask = graph.edata['train_mask']\n",
        "  src, dst = graph.edges()\n",
        "  rel = graph.edata['etype']\n",
        "  head = src.numpy()\n",
        "  tail = dst.numpy()\n",
        "  label = rel.numpy()\n",
        "\n",
        "  print(head)\n",
        "  print(f\"max : {max(head)}\")\n",
        "  print(f\"length : {len(head)}\")\n",
        "  print(f\"unique_head : {np.unique(head)}\")\n",
        "  print(f\"unique_length : {len(np.unique(head))}\")\n",
        "  print(tail)\n",
        "  print(f\"max : {max(tail)}\")\n",
        "  print(f\"length : {len(tail)}\")\n",
        "  print(f\"unique_head : {np.unique(tail)}\")\n",
        "  print(f\"unique_length : {len(np.unique(tail))}\")\n",
        "\n",
        "  configure = Configure()\n",
        "  head_neg, tail_neg = prepare_neg_entity(head, tail, label)\n",
        "  dataset = KgDataset(head, tail, label, configure.neg_sample, head_neg, tail_neg)\n",
        "  dataloader = DataLoader(dataset, configure.batch_size, drop_last=False, shuffle=True)\n",
        "  model = TransE(num_entity=max(head)+1,\n",
        "                num_label=max(label)+1,\n",
        "                embed_dim=configure.embed_dim,\n",
        "                gamma=configure.gamma,\n",
        "                configure=configure)\n",
        "  model = model.to(configure.device)\n",
        "  optimizer = optim.Adam(model.parameters(), lr=configure.learning_rate)\n",
        "  history = defaultdict(list)\n",
        "  for epoch in range(configure.epochs):\n",
        "      losses = []\n",
        "      model.train()\n",
        "      for batch_data in dataloader:\n",
        "          optimizer.zero_grad()\n",
        "          batch_data = {k:v.to(configure.device) for k,v in batch_data.items()}\n",
        "          loss = model(batch_data)\n",
        "          losses.append(loss.item())\n",
        "          loss.backward()\n",
        "          optimizer.step()\n",
        "      print(f'EPOCH {epoch+1} : Loss {np.mean(losses):.1f}')\n",
        "      history['train'].append(np.mean(losses))\n",
        "  plt.plot(history['train'], label = f'lr : {np.format_float_scientific(configure.learning_rate, unique=False, precision=3)}, gamma : {configure.gamma}, embed_dim : {configure.embed_dim}')\n",
        "  plt.xlabel('Epochs')\n",
        "  plt.ylabel('Loss')\n",
        "  plt.legend(bbox_to_anchor=(1.02, 1), loc='upper left', borderaxespad=0)\n",
        "  return losses[-1]\n",
        "\n",
        "\n",
        "sampler = optuna.samplers.TPESampler()\n",
        "\n",
        "study = optuna.create_study(direction=\"minimize\")\n",
        "study.optimize(train_mnist, n_trials=6)\n",
        "df = study.trials_dataframe()\n",
        "df.head(3)\n",
        "\n",
        "trial = study.best_trial\n",
        "print('Accuracy: {}'.format(trial.value))\n",
        "print(\"Best hyperparameters: {}\".format(trial.params))\n"
      ]
    },
    {
      "cell_type": "code",
      "execution_count": null,
      "metadata": {
        "id": "IQlBVd-EuveK",
        "colab": {
          "base_uri": "https://localhost:8080/"
        },
        "outputId": "0e4722f8-3fe3-4798-b946-fdcb070a62b3"
      },
      "outputs": [
        {
          "output_type": "stream",
          "name": "stdout",
          "text": [
            "[0. 0. 0.]\n",
            "3\n"
          ]
        }
      ],
      "source": [
        "import numpy as np\n",
        "a = np.zeros(3)\n",
        "print(a)\n",
        "print(len(a))"
      ]
    }
  ],
  "metadata": {
    "accelerator": "GPU",
    "colab": {
      "provenance": []
    },
    "gpuClass": "standard",
    "kernelspec": {
      "display_name": "Python 3",
      "name": "python3"
    },
    "language_info": {
      "name": "python"
    }
  },
  "nbformat": 4,
  "nbformat_minor": 0
}